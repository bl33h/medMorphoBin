{
 "cells": [
  {
   "cell_type": "markdown",
   "metadata": {},
   "source": [
    "# medMorphoBin - First project computer vision"
   ]
  },
  {
   "cell_type": "markdown",
   "metadata": {},
   "source": [
    "- Sara Echeverría 21371\n",
    "- Melissa Pérez 21385\n",
    "- Ricardo Mendez 21289"
   ]
  },
  {
   "cell_type": "markdown",
   "metadata": {},
   "source": [
    "repository link: https://github.com/bl33h/medMorphoBin"
   ]
  },
  {
   "cell_type": "markdown",
   "metadata": {},
   "source": [
    "## Task 1"
   ]
  },
  {
   "cell_type": "markdown",
   "metadata": {},
   "source": [
    "### implementing binarization algorithms"
   ]
  },
  {
   "cell_type": "markdown",
   "metadata": {},
   "source": [
    "## Task 2"
   ]
  },
  {
   "cell_type": "markdown",
   "metadata": {},
   "source": [
    "### discretization of arterial structure"
   ]
  }
 ],
 "metadata": {
  "language_info": {
   "name": "python"
  }
 },
 "nbformat": 4,
 "nbformat_minor": 2
}
